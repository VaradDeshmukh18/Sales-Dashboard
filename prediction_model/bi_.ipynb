{
 "cells": [
  {
   "cell_type": "code",
   "execution_count": 10,
   "metadata": {},
   "outputs": [],
   "source": [
    "import numpy as np \n",
    "import pandas as pd\n",
    "import matplotlib.pyplot as plt\n",
    "import seaborn as sns\n",
    "import sklearn\n",
    "from sklearn.model_selection import train_test_split\n",
    "from sklearn.naive_bayes import GaussianNB\n",
    "from sklearn.metrics import accuracy_score, classification_report, confusion_matrix\n",
    "from sklearn.preprocessing import StandardScaler\n",
    "from sklearn.preprocessing import OneHotEncoder\n",
    "from sklearn.compose import ColumnTransformer\n",
    "from scipy import stats\n",
    "\n",
    "sns.set_style(\"darkgrid\")\n"
   ]
  },
  {
   "cell_type": "code",
   "execution_count": 11,
   "metadata": {},
   "outputs": [],
   "source": [
    "df = pd.read_csv(\"Walmart_Sales.csv\")"
   ]
  },
  {
   "cell_type": "code",
   "execution_count": 12,
   "metadata": {},
   "outputs": [
    {
     "data": {
      "text/html": [
       "<div>\n",
       "<style scoped>\n",
       "    .dataframe tbody tr th:only-of-type {\n",
       "        vertical-align: middle;\n",
       "    }\n",
       "\n",
       "    .dataframe tbody tr th {\n",
       "        vertical-align: top;\n",
       "    }\n",
       "\n",
       "    .dataframe thead th {\n",
       "        text-align: right;\n",
       "    }\n",
       "</style>\n",
       "<table border=\"1\" class=\"dataframe\">\n",
       "  <thead>\n",
       "    <tr style=\"text-align: right;\">\n",
       "      <th></th>\n",
       "      <th>Store</th>\n",
       "      <th>Date</th>\n",
       "      <th>Weekly_Sales</th>\n",
       "      <th>Holiday_Flag</th>\n",
       "      <th>Temperature</th>\n",
       "      <th>Fuel_Price</th>\n",
       "      <th>CPI</th>\n",
       "      <th>Unemployment</th>\n",
       "    </tr>\n",
       "  </thead>\n",
       "  <tbody>\n",
       "    <tr>\n",
       "      <th>0</th>\n",
       "      <td>1</td>\n",
       "      <td>05-02-2010</td>\n",
       "      <td>1643690.90</td>\n",
       "      <td>0</td>\n",
       "      <td>42.31</td>\n",
       "      <td>2.572</td>\n",
       "      <td>211.096358</td>\n",
       "      <td>8.106</td>\n",
       "    </tr>\n",
       "    <tr>\n",
       "      <th>1</th>\n",
       "      <td>1</td>\n",
       "      <td>12-02-2010</td>\n",
       "      <td>1641957.44</td>\n",
       "      <td>1</td>\n",
       "      <td>38.51</td>\n",
       "      <td>2.548</td>\n",
       "      <td>211.242170</td>\n",
       "      <td>8.106</td>\n",
       "    </tr>\n",
       "    <tr>\n",
       "      <th>2</th>\n",
       "      <td>1</td>\n",
       "      <td>19-02-2010</td>\n",
       "      <td>1611968.17</td>\n",
       "      <td>0</td>\n",
       "      <td>39.93</td>\n",
       "      <td>2.514</td>\n",
       "      <td>211.289143</td>\n",
       "      <td>8.106</td>\n",
       "    </tr>\n",
       "    <tr>\n",
       "      <th>3</th>\n",
       "      <td>1</td>\n",
       "      <td>26-02-2010</td>\n",
       "      <td>1409727.59</td>\n",
       "      <td>0</td>\n",
       "      <td>46.63</td>\n",
       "      <td>2.561</td>\n",
       "      <td>211.319643</td>\n",
       "      <td>8.106</td>\n",
       "    </tr>\n",
       "    <tr>\n",
       "      <th>4</th>\n",
       "      <td>1</td>\n",
       "      <td>05-03-2010</td>\n",
       "      <td>1554806.68</td>\n",
       "      <td>0</td>\n",
       "      <td>46.50</td>\n",
       "      <td>2.625</td>\n",
       "      <td>211.350143</td>\n",
       "      <td>8.106</td>\n",
       "    </tr>\n",
       "  </tbody>\n",
       "</table>\n",
       "</div>"
      ],
      "text/plain": [
       "   Store        Date  Weekly_Sales  Holiday_Flag  Temperature  Fuel_Price  \\\n",
       "0      1  05-02-2010    1643690.90             0        42.31       2.572   \n",
       "1      1  12-02-2010    1641957.44             1        38.51       2.548   \n",
       "2      1  19-02-2010    1611968.17             0        39.93       2.514   \n",
       "3      1  26-02-2010    1409727.59             0        46.63       2.561   \n",
       "4      1  05-03-2010    1554806.68             0        46.50       2.625   \n",
       "\n",
       "          CPI  Unemployment  \n",
       "0  211.096358         8.106  \n",
       "1  211.242170         8.106  \n",
       "2  211.289143         8.106  \n",
       "3  211.319643         8.106  \n",
       "4  211.350143         8.106  "
      ]
     },
     "execution_count": 12,
     "metadata": {},
     "output_type": "execute_result"
    }
   ],
   "source": [
    "df.head()"
   ]
  },
  {
   "cell_type": "code",
   "execution_count": 13,
   "metadata": {},
   "outputs": [
    {
     "data": {
      "text/plain": [
       "Store             int64\n",
       "Date             object\n",
       "Weekly_Sales    float64\n",
       "Holiday_Flag      int64\n",
       "Temperature     float64\n",
       "Fuel_Price      float64\n",
       "CPI             float64\n",
       "Unemployment    float64\n",
       "dtype: object"
      ]
     },
     "execution_count": 13,
     "metadata": {},
     "output_type": "execute_result"
    }
   ],
   "source": [
    "df.dtypes"
   ]
  },
  {
   "cell_type": "code",
   "execution_count": 14,
   "metadata": {},
   "outputs": [
    {
     "data": {
      "text/plain": [
       "Store           0\n",
       "Date            0\n",
       "Weekly_Sales    0\n",
       "Holiday_Flag    0\n",
       "Temperature     0\n",
       "Fuel_Price      0\n",
       "CPI             0\n",
       "Unemployment    0\n",
       "dtype: int64"
      ]
     },
     "execution_count": 14,
     "metadata": {},
     "output_type": "execute_result"
    }
   ],
   "source": [
    "df.isnull().sum()\n"
   ]
  },
  {
   "cell_type": "code",
   "execution_count": 15,
   "metadata": {},
   "outputs": [
    {
     "name": "stdout",
     "output_type": "stream",
     "text": [
      "Data without outliers (Z-score method):\n",
      "       Store        Date  Weekly_Sales  Holiday_Flag  Temperature  Fuel_Price  \\\n",
      "0         1  05-02-2010    1643690.90             0        42.31       2.572   \n",
      "1         1  12-02-2010    1641957.44             1        38.51       2.548   \n",
      "2         1  19-02-2010    1611968.17             0        39.93       2.514   \n",
      "3         1  26-02-2010    1409727.59             0        46.63       2.561   \n",
      "4         1  05-03-2010    1554806.68             0        46.50       2.625   \n",
      "...     ...         ...           ...           ...          ...         ...   \n",
      "6430     45  28-09-2012     713173.95             0        64.88       3.997   \n",
      "6431     45  05-10-2012     733455.07             0        64.89       3.985   \n",
      "6432     45  12-10-2012     734464.36             0        54.47       4.000   \n",
      "6433     45  19-10-2012     718125.53             0        56.47       3.969   \n",
      "6434     45  26-10-2012     760281.43             0        58.85       3.882   \n",
      "\n",
      "             CPI  Unemployment  \n",
      "0     211.096358         8.106  \n",
      "1     211.242170         8.106  \n",
      "2     211.289143         8.106  \n",
      "3     211.319643         8.106  \n",
      "4     211.350143         8.106  \n",
      "...          ...           ...  \n",
      "6430  192.013558         8.684  \n",
      "6431  192.170412         8.667  \n",
      "6432  192.327265         8.667  \n",
      "6433  192.330854         8.667  \n",
      "6434  192.308899         8.667  \n",
      "\n",
      "[6404 rows x 8 columns]\n"
     ]
    }
   ],
   "source": [
    "# Compute Z-scores for 'Weekly_Sales'\n",
    "z_scores = np.abs(stats.zscore(df['Weekly_Sales']))\n",
    "\n",
    "# Set a Z-score threshold (commonly 3)\n",
    "threshold = 3\n",
    "df_no_outliers_zscore = df[z_scores < threshold]\n",
    "\n",
    "print(\"Data without outliers (Z-score method):\\n\", df_no_outliers_zscore)"
   ]
  },
  {
   "cell_type": "code",
   "execution_count": 16,
   "metadata": {},
   "outputs": [
    {
     "data": {
      "image/png": "[encoded data removed]",
      "text/plain": [
       "<Figure size 1000x600 with 1 Axes>"
      ]
     },
     "metadata": {},
     "output_type": "display_data"
    }
   ],
   "source": [
    "\n",
    "\n",
    "### Combined Box Plot ###\n",
    "plt.figure(figsize=(10, 6))\n",
    "\n",
    "# Select continuous variables (excluding categorical like 'Store')\n",
    "continuous_columns = ['Weekly_Sales', 'Temperature', 'Fuel_Price', 'CPI', 'Unemployment']\n",
    "\n",
    "# Create box plot for each column\n",
    "sns.boxplot(data=df[continuous_columns])\n",
    "\n",
    "# Set the title and labels\n",
    "plt.title('Combined Box Plot for Continuous Features')\n",
    "plt.xticks(rotation=45)\n",
    "plt.show()"
   ]
  },
  {
   "cell_type": "code",
   "execution_count": 17,
   "metadata": {},
   "outputs": [
    {
     "name": "stdout",
     "output_type": "stream",
     "text": [
      "      Store       Date  Weekly_Sales  Holiday_Flag  Temperature  Fuel_Price  \\\n",
      "0         1 2010-02-05    1643690.90             0        42.31       2.572   \n",
      "1         1 2010-02-12    1641957.44             1        38.51       2.548   \n",
      "2         1 2010-02-19    1611968.17             0        39.93       2.514   \n",
      "3         1 2010-02-26    1409727.59             0        46.63       2.561   \n",
      "4         1 2010-03-05    1554806.68             0        46.50       2.625   \n",
      "...     ...        ...           ...           ...          ...         ...   \n",
      "6430     45 2012-09-28     713173.95             0        64.88       3.997   \n",
      "6431     45 2012-10-05     733455.07             0        64.89       3.985   \n",
      "6432     45 2012-10-12     734464.36             0        54.47       4.000   \n",
      "6433     45 2012-10-19     718125.53             0        56.47       3.969   \n",
      "6434     45 2012-10-26     760281.43             0        58.85       3.882   \n",
      "\n",
      "             CPI  Unemployment  \n",
      "0     211.096358         8.106  \n",
      "1     211.242170         8.106  \n",
      "2     211.289143         8.106  \n",
      "3     211.319643         8.106  \n",
      "4     211.350143         8.106  \n",
      "...          ...           ...  \n",
      "6430  192.013558         8.684  \n",
      "6431  192.170412         8.667  \n",
      "6432  192.327265         8.667  \n",
      "6433  192.330854         8.667  \n",
      "6434  192.308899         8.667  \n",
      "\n",
      "[6435 rows x 8 columns]\n"
     ]
    }
   ],
   "source": [
    "# Parse the 'Date' column with day first format\n",
    "df['Date'] = pd.to_datetime(df['Date'], dayfirst=True)\n",
    "\n",
    "# Print the updated DataFrame to verify the correct parsing\n",
    "print(df)"
   ]
  },
  {
   "cell_type": "code",
   "execution_count": 18,
   "metadata": {},
   "outputs": [],
   "source": [
    "# Ensure 'Date' column is in datetime format\n",
    "df['Date'] = pd.to_datetime(df['Date'], dayfirst=True)\n",
    "\n",
    "# Feature engineering: extract useful features from the 'Date' column\n",
    "df['Year'] = df['Date'].dt.year\n",
    "df['Month'] = df['Date'].dt.month\n",
    "df['Day'] = df['Date'].dt.day\n",
    "df['DayOfWeek'] = df['Date'].dt.dayofweek\n",
    "\n",
    "# Now drop the 'Date' column if you don't need it anymore\n",
    "X = df.drop(columns=['Weekly_Sales', 'Date'])  # Drop the 'Date' after extracting useful features\n",
    "y = df['Weekly_Sales']\n"
   ]
  },
  {
   "cell_type": "code",
   "execution_count": 19,
   "metadata": {},
   "outputs": [],
   "source": [
    "df.drop(columns=['Date','Store'],inplace=True)"
   ]
  },
  {
   "cell_type": "code",
   "execution_count": 20,
   "metadata": {},
   "outputs": [
    {
     "data": {
      "text/plain": [
       "Weekly_Sales    float64\n",
       "Holiday_Flag      int64\n",
       "Temperature     float64\n",
       "Fuel_Price      float64\n",
       "CPI             float64\n",
       "Unemployment    float64\n",
       "Year              int32\n",
       "Month             int32\n",
       "Day               int32\n",
       "DayOfWeek         int32\n",
       "dtype: object"
      ]
     },
     "execution_count": 20,
     "metadata": {},
     "output_type": "execute_result"
    }
   ],
   "source": [
    "df.dtypes"
   ]
  },
  {
   "cell_type": "code",
   "execution_count": 22,
   "metadata": {},
   "outputs": [
    {
     "name": "stdout",
     "output_type": "stream",
     "text": [
      "Index(['Weekly_Sales', 'Holiday_Flag', 'Temperature', 'Fuel_Price', 'CPI',\n",
      "       'Unemployment', 'Year', 'Month', 'Day', 'DayOfWeek'],\n",
      "      dtype='object')\n"
     ]
    }
   ],
   "source": [
    "print(df.columns)"
   ]
  },
  {
   "cell_type": "code",
   "execution_count": 23,
   "metadata": {},
   "outputs": [
    {
     "name": "stdout",
     "output_type": "stream",
     "text": [
      "Linear Regression - RMSE: 559748.17, R²: 0.03\n",
      "Random Forest - RMSE: 542987.27, R²: 0.08\n",
      "Support Vector Regressor - RMSE: 575612.43, R²: -0.03\n",
      "Decision Tree - RMSE: 657574.78, R²: -0.34\n",
      "K-Nearest Neighbors - RMSE: 619824.58, R²: -0.19\n"
     ]
    }
   ],
   "source": [
    "import pandas as pd\n",
    "import numpy as np\n",
    "from sklearn.model_selection import train_test_split\n",
    "from sklearn.linear_model import LinearRegression\n",
    "from sklearn.ensemble import RandomForestRegressor\n",
    "from sklearn.svm import SVR\n",
    "from sklearn.tree import DecisionTreeRegressor\n",
    "from sklearn.neighbors import KNeighborsRegressor\n",
    "from sklearn.metrics import mean_squared_error, r2_score\n",
    "\n",
    "# Assuming df is your cleaned DataFrame\n",
    "# Dropping irrelevant columns\n",
    "df = df.drop(columns=['Store', 'Date'],errors='ignore')\n",
    "\n",
    "# Define features and target variable\n",
    "X = df.drop(columns=['Weekly_Sales'])\n",
    "y = df['Weekly_Sales']\n",
    "\n",
    "# Splitting the dataset into training and testing sets\n",
    "X_train, X_test, y_train, y_test = train_test_split(X, y, test_size=0.2, random_state=42)\n",
    "\n",
    "# Initialize models\n",
    "models = {\n",
    "    \"Linear Regression\": LinearRegression(),\n",
    "    \"Random Forest\": RandomForestRegressor(),\n",
    "    \"Support Vector Regressor\": SVR(),\n",
    "    \"Decision Tree\": DecisionTreeRegressor(),\n",
    "    \"K-Nearest Neighbors\": KNeighborsRegressor()\n",
    "}\n",
    "\n",
    "# Dictionary to hold performance metrics\n",
    "performance_metrics = {}\n",
    "\n",
    "# Fit models and calculate RMSE and R²\n",
    "for model_name, model in models.items():\n",
    "    model.fit(X_train, y_train)\n",
    "    y_pred = model.predict(X_test)\n",
    "    \n",
    "    # Calculate RMSE\n",
    "    rmse = np.sqrt(mean_squared_error(y_test, y_pred))\n",
    "    \n",
    "    # Calculate R²\n",
    "    r2 = r2_score(y_test, y_pred)\n",
    "    \n",
    "    # Store metrics\n",
    "    performance_metrics[model_name] = {\n",
    "        \"RMSE\": rmse,\n",
    "        \"R²\": r2\n",
    "    }\n",
    "\n",
    "# Display performance metrics\n",
    "for model_name, metrics in performance_metrics.items():\n",
    "    print(f\"{model_name} - RMSE: {metrics['RMSE']:.2f}, R²: {metrics['R²']:.2f}\")\n"
   ]
  },
  {
   "cell_type": "code",
   "execution_count": 24,
   "metadata": {},
   "outputs": [
    {
     "name": "stdout",
     "output_type": "stream",
     "text": [
      "Fitting 5 folds for each of 324 candidates, totalling 1620 fits\n"
     ]
    },
    {
     "name": "stderr",
     "output_type": "stream",
     "text": [
      "c:\\Program Files\\Python311\\Lib\\site-packages\\sklearn\\model_selection\\_validation.py:542: FitFailedWarning: \n",
      "540 fits failed out of a total of 1620.\n",
      "The score on these train-test partitions for these parameters will be set to nan.\n",
      "If these failures are not expected, you can try to debug them by setting error_score='raise'.\n",
      "\n",
      "Below are more details about the failures:\n",
      "--------------------------------------------------------------------------------\n",
      "229 fits failed with the following error:\n",
      "Traceback (most recent call last):\n",
      "  File \"c:\\Program Files\\Python311\\Lib\\site-packages\\sklearn\\model_selection\\_validation.py\", line 890, in _fit_and_score\n",
      "    estimator.fit(X_train, y_train, **fit_params)\n",
      "  File \"c:\\Program Files\\Python311\\Lib\\site-packages\\sklearn\\base.py\", line 1344, in wrapper\n",
      "    estimator._validate_params()\n",
      "  File \"c:\\Program Files\\Python311\\Lib\\site-packages\\sklearn\\base.py\", line 666, in _validate_params\n",
      "    validate_parameter_constraints(\n",
      "  File \"c:\\Program Files\\Python311\\Lib\\site-packages\\sklearn\\utils\\_param_validation.py\", line 95, in validate_parameter_constraints\n",
      "    raise InvalidParameterError(\n",
      "sklearn.utils._param_validation.InvalidParameterError: The 'max_features' parameter of RandomForestRegressor must be an int in the range [1, inf), a float in the range (0.0, 1.0], a str among {'sqrt', 'log2'} or None. Got 'auto' instead.\n",
      "\n",
      "--------------------------------------------------------------------------------\n",
      "311 fits failed with the following error:\n",
      "Traceback (most recent call last):\n",
      "  File \"c:\\Program Files\\Python311\\Lib\\site-packages\\sklearn\\model_selection\\_validation.py\", line 890, in _fit_and_score\n",
      "    estimator.fit(X_train, y_train, **fit_params)\n",
      "  File \"c:\\Program Files\\Python311\\Lib\\site-packages\\sklearn\\base.py\", line 1344, in wrapper\n",
      "    estimator._validate_params()\n",
      "  File \"c:\\Program Files\\Python311\\Lib\\site-packages\\sklearn\\base.py\", line 666, in _validate_params\n",
      "    validate_parameter_constraints(\n",
      "  File \"c:\\Program Files\\Python311\\Lib\\site-packages\\sklearn\\utils\\_param_validation.py\", line 95, in validate_parameter_constraints\n",
      "    raise InvalidParameterError(\n",
      "sklearn.utils._param_validation.InvalidParameterError: The 'max_features' parameter of RandomForestRegressor must be an int in the range [1, inf), a float in the range (0.0, 1.0], a str among {'log2', 'sqrt'} or None. Got 'auto' instead.\n",
      "\n",
      "  warnings.warn(some_fits_failed_message, FitFailedWarning)\n",
      "c:\\Program Files\\Python311\\Lib\\site-packages\\sklearn\\model_selection\\_search.py:1051: UserWarning: One or more of the test scores are non-finite: [            nan             nan             nan             nan\n",
      "             nan             nan             nan             nan\n",
      "             nan             nan             nan             nan\n",
      "             nan             nan             nan             nan\n",
      "             nan             nan             nan             nan\n",
      "             nan             nan             nan             nan\n",
      "             nan             nan             nan -3.16104456e+11\n",
      " -3.15944780e+11 -3.15871686e+11 -2.95985707e+11 -2.94530875e+11\n",
      " -2.94720677e+11 -2.72173320e+11 -2.71581051e+11 -2.71708702e+11\n",
      " -2.86452816e+11 -2.86901715e+11 -2.86134156e+11 -2.83700217e+11\n",
      " -2.81940758e+11 -2.82824725e+11 -2.66124119e+11 -2.67492838e+11\n",
      " -2.66824102e+11 -2.65711776e+11 -2.64395237e+11 -2.64892664e+11\n",
      " -2.65733019e+11 -2.64021986e+11 -2.64173678e+11 -2.62146117e+11\n",
      " -2.63164096e+11 -2.61833967e+11 -3.16295705e+11 -3.14937132e+11\n",
      " -3.14846273e+11 -2.97056115e+11 -2.94482751e+11 -2.93368256e+11\n",
      " -2.72769865e+11 -2.72588980e+11 -2.72120726e+11 -2.88172198e+11\n",
      " -2.87434412e+11 -2.87499705e+11 -2.83862942e+11 -2.83390739e+11\n",
      " -2.84533735e+11 -2.68609117e+11 -2.67236218e+11 -2.66546086e+11\n",
      " -2.65451330e+11 -2.64430157e+11 -2.64301366e+11 -2.63985814e+11\n",
      " -2.65626113e+11 -2.64533568e+11 -2.61528445e+11 -2.62022462e+11\n",
      " -2.61162103e+11             nan             nan             nan\n",
      "             nan             nan             nan             nan\n",
      "             nan             nan             nan             nan\n",
      "             nan             nan             nan             nan\n",
      "             nan             nan             nan             nan\n",
      "             nan             nan             nan             nan\n",
      "             nan             nan             nan             nan\n",
      " -2.65037348e+11 -2.64204793e+11 -2.63875510e+11 -2.61486718e+11\n",
      " -2.61615802e+11 -2.61156169e+11 -2.59191171e+11 -2.58534150e+11\n",
      " -2.58022130e+11 -2.61144943e+11 -2.61506847e+11 -2.60427454e+11\n",
      " -2.60544044e+11 -2.60543727e+11 -2.60136253e+11 -2.58861957e+11\n",
      " -2.58384144e+11 -2.57583013e+11 -2.59002976e+11 -2.58426175e+11\n",
      " -2.57537046e+11 -2.58652077e+11 -2.58274854e+11 -2.58262817e+11\n",
      " -2.57891684e+11 -2.57239863e+11 -2.57089097e+11 -2.65419915e+11\n",
      " -2.64514858e+11 -2.64268990e+11 -2.62868864e+11 -2.60927576e+11\n",
      " -2.62143401e+11 -2.59338137e+11 -2.58266802e+11 -2.58802641e+11\n",
      " -2.61150428e+11 -2.61229837e+11 -2.61220842e+11 -2.61267793e+11\n",
      " -2.61047312e+11 -2.60242165e+11 -2.58756493e+11 -2.57434132e+11\n",
      " -2.57602784e+11 -2.59001172e+11 -2.58196849e+11 -2.58499214e+11\n",
      " -2.58168570e+11 -2.58861109e+11 -2.58096352e+11 -2.58944719e+11\n",
      " -2.57886913e+11 -2.57098213e+11             nan             nan\n",
      "             nan             nan             nan             nan\n",
      "             nan             nan             nan             nan\n",
      "             nan             nan             nan             nan\n",
      "             nan             nan             nan             nan\n",
      "             nan             nan             nan             nan\n",
      "             nan             nan             nan             nan\n",
      "             nan -3.07426747e+11 -3.04571807e+11 -3.05266832e+11\n",
      " -2.88277044e+11 -2.88067697e+11 -2.87670765e+11 -2.70118325e+11\n",
      " -2.68953407e+11 -2.69548998e+11 -2.82892443e+11 -2.83673527e+11\n",
      " -2.82716492e+11 -2.81379519e+11 -2.80457508e+11 -2.79839686e+11\n",
      " -2.67772969e+11 -2.66790168e+11 -2.66385234e+11 -2.64471503e+11\n",
      " -2.63943638e+11 -2.62377127e+11 -2.64385274e+11 -2.62816760e+11\n",
      " -2.63805621e+11 -2.61343438e+11 -2.60678127e+11 -2.60944415e+11\n",
      " -3.05517043e+11 -3.05272970e+11 -3.04533628e+11 -2.90851479e+11\n",
      " -2.87591209e+11 -2.87374585e+11 -2.70310851e+11 -2.68588849e+11\n",
      " -2.69108681e+11 -2.83991188e+11 -2.83479322e+11 -2.82556845e+11\n",
      " -2.80268929e+11 -2.80628077e+11 -2.79943088e+11 -2.65321728e+11\n",
      " -2.65996852e+11 -2.64757021e+11 -2.63260275e+11 -2.63070009e+11\n",
      " -2.62676298e+11 -2.63018264e+11 -2.62400372e+11 -2.63216004e+11\n",
      " -2.61555256e+11 -2.61474175e+11 -2.60941078e+11             nan\n",
      "             nan             nan             nan             nan\n",
      "             nan             nan             nan             nan\n",
      "             nan             nan             nan             nan\n",
      "             nan             nan             nan             nan\n",
      "             nan             nan             nan             nan\n",
      "             nan             nan             nan             nan\n",
      "             nan             nan -3.18905388e+11 -3.14500655e+11\n",
      " -3.14184647e+11 -2.95873773e+11 -2.93782342e+11 -2.93785169e+11\n",
      " -2.71299137e+11 -2.71777721e+11 -2.72769945e+11 -2.87864825e+11\n",
      " -2.86091792e+11 -2.87325654e+11 -2.84330909e+11 -2.83453557e+11\n",
      " -2.82735495e+11 -2.68602426e+11 -2.66980517e+11 -2.67327433e+11\n",
      " -2.64616716e+11 -2.64129158e+11 -2.63914019e+11 -2.62718879e+11\n",
      " -2.63667440e+11 -2.63510960e+11 -2.62323495e+11 -2.60960784e+11\n",
      " -2.61489707e+11 -3.15843702e+11 -3.14294110e+11 -3.14702422e+11\n",
      " -2.97311690e+11 -2.95237751e+11 -2.94025841e+11 -2.72624328e+11\n",
      " -2.73525228e+11 -2.71436162e+11 -2.87234513e+11 -2.86951833e+11\n",
      " -2.85738910e+11 -2.83749051e+11 -2.84353581e+11 -2.83178479e+11\n",
      " -2.69081607e+11 -2.67974327e+11 -2.66617518e+11 -2.66548081e+11\n",
      " -2.64905321e+11 -2.65071783e+11 -2.65669131e+11 -2.64280368e+11\n",
      " -2.63863258e+11 -2.61803817e+11 -2.62531535e+11 -2.61975430e+11]\n",
      "  warnings.warn(\n"
     ]
    },
    {
     "name": "stdout",
     "output_type": "stream",
     "text": [
      "Best Parameters: {'max_depth': 10, 'max_features': 'sqrt', 'min_samples_leaf': 4, 'min_samples_split': 10, 'n_estimators': 300}\n",
      "Random Forest - RMSE: 504874.22, R²: 0.21\n"
     ]
    }
   ],
   "source": [
    "import pandas as pd\n",
    "import numpy as np\n",
    "from sklearn.model_selection import train_test_split, GridSearchCV\n",
    "from sklearn.ensemble import RandomForestRegressor\n",
    "from sklearn.metrics import mean_squared_error, r2_score\n",
    "\n",
    "\n",
    "\n",
    "# Define features and target variable\n",
    "X = df.drop(columns=['Weekly_Sales'])\n",
    "y = df['Weekly_Sales']\n",
    "\n",
    "# Splitting the dataset into training and testing sets\n",
    "X_train, X_test, y_train, y_test = train_test_split(X, y, test_size=0.2, random_state=42)\n",
    "\n",
    "# Initialize the Random Forest model\n",
    "rf_model = RandomForestRegressor()\n",
    "\n",
    "# Define the hyperparameter grid to search\n",
    "param_grid = {\n",
    "    'n_estimators': [100, 200, 300],\n",
    "    'max_features': ['auto', 'sqrt', 'log2'],\n",
    "    'max_depth': [None, 10, 20, 30],\n",
    "    'min_samples_split': [2, 5, 10],\n",
    "    'min_samples_leaf': [1, 2, 4]\n",
    "}\n",
    "\n",
    "# Set up the GridSearchCV\n",
    "grid_search = GridSearchCV(estimator=rf_model, \n",
    "                           param_grid=param_grid, \n",
    "                           scoring='neg_mean_squared_error', \n",
    "                           cv=5, \n",
    "                           verbose=2, \n",
    "                           n_jobs=-1)\n",
    "\n",
    "# Fit GridSearchCV\n",
    "grid_search.fit(X_train, y_train)\n",
    "\n",
    "# Get the best parameters and best estimator\n",
    "best_params = grid_search.best_params_\n",
    "best_rf_model = grid_search.best_estimator_\n",
    "\n",
    "# Print best parameters\n",
    "print(\"Best Parameters:\", best_params)\n",
    "\n",
    "# Make predictions on the test set\n",
    "y_pred = best_rf_model.predict(X_test)\n",
    "\n",
    "# Calculate RMSE and R²\n",
    "rmse = np.sqrt(mean_squared_error(y_test, y_pred))\n",
    "r2 = r2_score(y_test, y_pred)\n",
    "\n",
    "# Print performance metrics\n",
    "print(f\"Random Forest - RMSE: {rmse:.2f}, R²: {r2:.2f}\")\n"
   ]
  },
  {
   "cell_type": "code",
   "execution_count": 25,
   "metadata": {},
   "outputs": [
    {
     "name": "stdout",
     "output_type": "stream",
     "text": [
      "Model saved to random_forest_model.pkl\n"
     ]
    }
   ],
   "source": [
    "import pickle\n",
    "\n",
    "# Save the trained Random Forest model to a pickle file\n",
    "with open('random_forest_model.pkl', 'wb') as model_file:\n",
    "    pickle.dump(best_rf_model, model_file)\n",
    "\n",
    "print(\"Model saved to random_forest_model.pkl\")\n"
   ]
  }
 ],
 "metadata": {
  "kernelspec": {
   "display_name": "Python 3",
   "language": "python",
   "name": "python3"
  },
  "language_info": {
   "codemirror_mode": {
    "name": "ipython",
    "version": 3
   },
   "file_extension": ".py",
   "mimetype": "text/x-python",
   "name": "python",
   "nbconvert_exporter": "python",
   "pygments_lexer": "ipython3",
   "version": "3.11.9"
  }
 },
 "nbformat": 4,
 "nbformat_minor": 2
}
